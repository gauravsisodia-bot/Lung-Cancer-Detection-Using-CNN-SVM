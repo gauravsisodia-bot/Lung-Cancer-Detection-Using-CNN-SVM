{
 "cells": [
  {
   "cell_type": "code",
   "execution_count": 48,
   "id": "38528c3a",
   "metadata": {},
   "outputs": [],
   "source": [
    "from tensorflow.keras.models import Sequential\n",
    "\n",
    "from tensorflow.keras.layers import Conv2D, MaxPooling2D\n",
    "from tensorflow.keras.layers import Activation, Dense, Flatten, Dropout\n",
    "\n",
    "from tensorflow.keras.preprocessing.image import ImageDataGenerator\n",
    "from tensorflow.keras.preprocessing import image\n",
    "\n",
    "from tensorflow.keras.optimizers import SGD, Adam\n",
    "from tensorflow.keras.callbacks import ModelCheckpoint\n",
    "\n",
    "import numpy as np\n",
    "import matplotlib.pyplot as plt\n",
    "from sklearn.metrics import classification_report, confusion_matrix\n",
    "from sklearn import svm"
   ]
  },
  {
   "cell_type": "code",
   "execution_count": 49,
   "id": "d0589271",
   "metadata": {},
   "outputs": [
    {
     "name": "stdout",
     "output_type": "stream",
     "text": [
      "Found 380 images belonging to 2 classes.\n",
      "Found 101 images belonging to 2 classes.\n"
     ]
    }
   ],
   "source": [
    "HEIGHT = 150\n",
    "WIDTH = 150\n",
    "\n",
    "TRAIN_DIR = \"C:\\\\Users\\\\admin\\\\Desktop\\\\anotherdata\\\\train\"\n",
    "TEST_DIR = \"C:\\\\Users\\\\admin\\\\Desktop\\\\anotherdata\\\\testagain\"\n",
    "\n",
    "BATCH_SIZE = 32\n",
    "\n",
    "train_datagen = ImageDataGenerator(\n",
    "        horizontal_flip=True, \n",
    "        vertical_flip=False, \n",
    "        rotation_range=10,\n",
    "        rescale=1./255)\n",
    "\n",
    "test_datagen = ImageDataGenerator(rescale=1./255)\n",
    "\n",
    "\n",
    "train_generator = train_datagen.flow_from_directory(TRAIN_DIR, \n",
    "                                                    target_size=(HEIGHT, WIDTH), \n",
    "                                                    batch_size=BATCH_SIZE)\n",
    "\n",
    "test_generator = train_datagen.flow_from_directory(TEST_DIR, \n",
    "                                                    target_size=(HEIGHT, WIDTH), \n",
    "                                                    batch_size=BATCH_SIZE, \n",
    "                                                    shuffle = False)"
   ]
  },
  {
   "cell_type": "code",
   "execution_count": 50,
   "id": "864d9d8e",
   "metadata": {},
   "outputs": [
    {
     "name": "stdout",
     "output_type": "stream",
     "text": [
      "Model: \"sequential_4\"\n",
      "_________________________________________________________________\n",
      "Layer (type)                 Output Shape              Param #   \n",
      "=================================================================\n",
      "conv2d_24 (Conv2D)           (None, 148, 148, 16)      448       \n",
      "_________________________________________________________________\n",
      "conv2d_25 (Conv2D)           (None, 146, 146, 16)      2320      \n",
      "_________________________________________________________________\n",
      "max_pooling2d_8 (MaxPooling2 (None, 73, 73, 16)        0         \n",
      "_________________________________________________________________\n",
      "conv2d_26 (Conv2D)           (None, 71, 71, 32)        4640      \n",
      "_________________________________________________________________\n",
      "conv2d_27 (Conv2D)           (None, 69, 69, 32)        9248      \n",
      "_________________________________________________________________\n",
      "max_pooling2d_9 (MaxPooling2 (None, 34, 34, 32)        0         \n",
      "_________________________________________________________________\n",
      "conv2d_28 (Conv2D)           (None, 32, 32, 64)        18496     \n",
      "_________________________________________________________________\n",
      "conv2d_29 (Conv2D)           (None, 30, 30, 64)        36928     \n",
      "_________________________________________________________________\n",
      "flatten_4 (Flatten)          (None, 57600)             0         \n",
      "_________________________________________________________________\n",
      "dense_8 (Dense)              (None, 10)                576010    \n",
      "_________________________________________________________________\n",
      "dense_9 (Dense)              (None, 2)                 22        \n",
      "=================================================================\n",
      "Total params: 648,112\n",
      "Trainable params: 648,112\n",
      "Non-trainable params: 0\n",
      "_________________________________________________________________\n"
     ]
    }
   ],
   "source": [
    "# Building a Sequential Model using Sequential function\n",
    "\n",
    "#create model\n",
    "model = Sequential()\n",
    "\n",
    "#add model layers\n",
    "model.add(Conv2D(16, kernel_size=3, activation='relu', input_shape=(HEIGHT, WIDTH, 3)))\n",
    "model.add(Conv2D(16, kernel_size=3, activation='relu'))\n",
    "\n",
    "model.add(MaxPooling2D())\n",
    "\n",
    "model.add(Conv2D(32, kernel_size=3, activation='relu'))\n",
    "model.add(Conv2D(32, kernel_size=3, activation='relu'))\n",
    "\n",
    "model.add(MaxPooling2D())\n",
    "\n",
    "model.add(Conv2D(64, kernel_size=3, activation='relu'))\n",
    "model.add(Conv2D(64, kernel_size=3, activation='relu'))\n",
    "\n",
    "model.add(Flatten())\n",
    "model.add(Dense(10, activation='relu'))\n",
    "model.add(Dense(2, activation='softmax'))\n",
    "\n",
    "# Print the snapshot of the model\n",
    "model.summary()"
   ]
  },
  {
   "cell_type": "code",
   "execution_count": 51,
   "id": "54c6a7ae",
   "metadata": {},
   "outputs": [
    {
     "name": "stderr",
     "output_type": "stream",
     "text": [
      "C:\\Users\\admin\\anaconda3\\lib\\site-packages\\tensorflow\\python\\keras\\optimizer_v2\\optimizer_v2.py:374: UserWarning: The `lr` argument is deprecated, use `learning_rate` instead.\n",
      "  warnings.warn(\n"
     ]
    }
   ],
   "source": [
    "# Compiling your CNN Model\n",
    "\n",
    "NUM_EPOCHS = 25\n",
    "num_train_images = train_generator.samples\n",
    "\n",
    "adam = Adam(lr=0.0001)\n",
    "model.compile(adam, loss='squared_hinge', metrics=['accuracy'])"
   ]
  },
  {
   "cell_type": "code",
   "execution_count": 52,
   "id": "25017d8f",
   "metadata": {},
   "outputs": [],
   "source": [
    "# Adding a Model Checkpoint (saving our model after every epoch)\n",
    "\n",
    "filepath=\"model_weights.h5\"\n",
    "checkpoint = ModelCheckpoint(filepath, monitor=[\"acc\"], verbose=1, mode='max')\n",
    "#checkpoint = ModelCheckpoint(filepath, monitor=[\"val_acc\"], verbose=1, mode='max')"
   ]
  },
  {
   "cell_type": "code",
   "execution_count": 53,
   "id": "c224f3bc",
   "metadata": {},
   "outputs": [
    {
     "name": "stdout",
     "output_type": "stream",
     "text": [
      "Epoch 1/25\n",
      "11/11 [==============================] - 32s 3s/step - loss: 1.2303 - accuracy: 0.7011 - val_loss: 1.1953 - val_accuracy: 0.9109\n",
      "\n",
      "Epoch 00001: saving model to model_weights.h5\n",
      "Epoch 2/25\n",
      "11/11 [==============================] - 23s 2s/step - loss: 1.1148 - accuracy: 0.8937 - val_loss: 0.9815 - val_accuracy: 0.9703\n",
      "\n",
      "Epoch 00002: saving model to model_weights.h5\n",
      "Epoch 3/25\n",
      "11/11 [==============================] - 22s 2s/step - loss: 0.8745 - accuracy: 0.9138 - val_loss: 0.6190 - val_accuracy: 0.9901\n",
      "\n",
      "Epoch 00003: saving model to model_weights.h5\n",
      "Epoch 4/25\n",
      "11/11 [==============================] - 29s 3s/step - loss: 0.7154 - accuracy: 0.8966 - val_loss: 0.5789 - val_accuracy: 0.9604\n",
      "\n",
      "Epoch 00004: saving model to model_weights.h5\n",
      "Epoch 5/25\n",
      "11/11 [==============================] - 26s 2s/step - loss: 0.6462 - accuracy: 0.9339 - val_loss: 0.5955 - val_accuracy: 0.9604\n",
      "\n",
      "Epoch 00005: saving model to model_weights.h5\n",
      "Epoch 6/25\n",
      "11/11 [==============================] - 24s 2s/step - loss: 0.6232 - accuracy: 0.9425 - val_loss: 0.5992 - val_accuracy: 0.9604\n",
      "\n",
      "Epoch 00006: saving model to model_weights.h5\n",
      "Epoch 7/25\n",
      "11/11 [==============================] - 23s 2s/step - loss: 0.5830 - accuracy: 0.9655 - val_loss: 0.5736 - val_accuracy: 0.9703\n",
      "\n",
      "Epoch 00007: saving model to model_weights.h5\n",
      "Epoch 8/25\n",
      "11/11 [==============================] - 26s 2s/step - loss: 0.5761 - accuracy: 0.9684 - val_loss: 0.5792 - val_accuracy: 0.9703\n",
      "\n",
      "Epoch 00008: saving model to model_weights.h5\n",
      "Epoch 9/25\n",
      "11/11 [==============================] - 26s 2s/step - loss: 0.5657 - accuracy: 0.9713 - val_loss: 0.5647 - val_accuracy: 0.9604\n",
      "\n",
      "Epoch 00009: saving model to model_weights.h5\n",
      "Epoch 10/25\n",
      "11/11 [==============================] - 25s 2s/step - loss: 0.5647 - accuracy: 0.9713 - val_loss: 0.5815 - val_accuracy: 0.9604\n",
      "\n",
      "Epoch 00010: saving model to model_weights.h5\n",
      "Epoch 11/25\n",
      "11/11 [==============================] - 24s 2s/step - loss: 0.5513 - accuracy: 0.9770 - val_loss: 0.5551 - val_accuracy: 0.9703\n",
      "\n",
      "Epoch 00011: saving model to model_weights.h5\n",
      "Epoch 12/25\n",
      "11/11 [==============================] - 27s 2s/step - loss: 0.5503 - accuracy: 0.9741 - val_loss: 0.5608 - val_accuracy: 0.9703\n",
      "\n",
      "Epoch 00012: saving model to model_weights.h5\n",
      "Epoch 13/25\n",
      "11/11 [==============================] - 24s 2s/step - loss: 0.5460 - accuracy: 0.9799 - val_loss: 0.5548 - val_accuracy: 0.9703\n",
      "\n",
      "Epoch 00013: saving model to model_weights.h5\n",
      "Epoch 14/25\n",
      "11/11 [==============================] - 25s 2s/step - loss: 0.5434 - accuracy: 0.9801 - val_loss: 0.5594 - val_accuracy: 0.9703\n",
      "\n",
      "Epoch 00014: saving model to model_weights.h5\n",
      "Epoch 15/25\n",
      "11/11 [==============================] - 26s 2s/step - loss: 0.5434 - accuracy: 0.9799 - val_loss: 0.5488 - val_accuracy: 0.9802\n",
      "\n",
      "Epoch 00015: saving model to model_weights.h5\n",
      "Epoch 16/25\n",
      "11/11 [==============================] - 26s 2s/step - loss: 0.5442 - accuracy: 0.9799 - val_loss: 0.5409 - val_accuracy: 0.9802\n",
      "\n",
      "Epoch 00016: saving model to model_weights.h5\n",
      "Epoch 17/25\n",
      "11/11 [==============================] - 27s 2s/step - loss: 0.5454 - accuracy: 0.9770 - val_loss: 0.5433 - val_accuracy: 0.9802\n",
      "\n",
      "Epoch 00017: saving model to model_weights.h5\n",
      "Epoch 18/25\n",
      "11/11 [==============================] - 23s 2s/step - loss: 0.5442 - accuracy: 0.9770 - val_loss: 0.5366 - val_accuracy: 0.9802\n",
      "\n",
      "Epoch 00018: saving model to model_weights.h5\n",
      "Epoch 19/25\n",
      "11/11 [==============================] - 24s 2s/step - loss: 0.5317 - accuracy: 0.9856 - val_loss: 0.5372 - val_accuracy: 0.9802\n",
      "\n",
      "Epoch 00019: saving model to model_weights.h5\n",
      "Epoch 20/25\n",
      "11/11 [==============================] - 23s 2s/step - loss: 0.5447 - accuracy: 0.9770 - val_loss: 0.5527 - val_accuracy: 0.9703\n",
      "\n",
      "Epoch 00020: saving model to model_weights.h5\n",
      "Epoch 21/25\n",
      "11/11 [==============================] - 23s 2s/step - loss: 0.5304 - accuracy: 0.9828 - val_loss: 0.5396 - val_accuracy: 0.9802\n",
      "\n",
      "Epoch 00021: saving model to model_weights.h5\n",
      "Epoch 22/25\n",
      "11/11 [==============================] - 23s 2s/step - loss: 0.5217 - accuracy: 0.9885 - val_loss: 0.5413 - val_accuracy: 0.9802\n",
      "\n",
      "Epoch 00022: saving model to model_weights.h5\n",
      "Epoch 23/25\n",
      "11/11 [==============================] - 25s 2s/step - loss: 0.5184 - accuracy: 0.9914 - val_loss: 0.5356 - val_accuracy: 0.9802\n",
      "\n",
      "Epoch 00023: saving model to model_weights.h5\n",
      "Epoch 24/25\n",
      "11/11 [==============================] - 23s 2s/step - loss: 0.5179 - accuracy: 0.9914 - val_loss: 0.5382 - val_accuracy: 0.9802\n",
      "\n",
      "Epoch 00024: saving model to model_weights.h5\n",
      "Epoch 25/25\n",
      "11/11 [==============================] - 24s 2s/step - loss: 0.5172 - accuracy: 0.9914 - val_loss: 0.5329 - val_accuracy: 0.9802\n",
      "\n",
      "Epoch 00025: saving model to model_weights.h5\n"
     ]
    }
   ],
   "source": [
    "# Training your CNN Model using the generator that we created earlier\n",
    "\n",
    "history = model.fit(train_generator, \n",
    "                              validation_data=test_generator,\n",
    "                              epochs=NUM_EPOCHS,\n",
    "                              steps_per_epoch=num_train_images // BATCH_SIZE, \n",
    "                              shuffle=True, \n",
    "                              callbacks=[checkpoint])"
   ]
  },
  {
   "cell_type": "code",
   "execution_count": 54,
   "id": "cf6c4a83",
   "metadata": {},
   "outputs": [
    {
     "data": {
      "image/png": "[encoded data removed]",
      "text/plain": [
       "<Figure size 1584x576 with 2 Axes>"
      ]
     },
     "metadata": {
      "needs_background": "light"
     },
     "output_type": "display_data"
    }
   ],
   "source": [
    "# plot the evolution of Loss and Acuracy on the train and validation sets\n",
    "\n",
    "import matplotlib.pyplot as plt\n",
    "\n",
    "plt.figure(figsize=(22, 8))\n",
    "plt.subplot(1, 2, 1)\n",
    "plt.suptitle('Optimizer : Adam', fontsize=10)\n",
    "plt.ylabel('Loss', fontsize=16)\n",
    "plt.plot(history.history['loss'], label='Training Loss')\n",
    "plt.plot(history.history['val_loss'], label='Validation Loss')\n",
    "plt.legend(loc='upper right')\n",
    "\n",
    "plt.subplot(1, 2, 2)\n",
    "plt.ylabel('Accuracy', fontsize=16)\n",
    "plt.plot(history.history['accuracy'], label='Training Accuracy')\n",
    "plt.plot(history.history['val_accuracy'], label='Validation Accuracy')\n",
    "plt.legend(loc='lower right')\n",
    "plt.show()"
   ]
  },
  {
   "cell_type": "code",
   "execution_count": 55,
   "id": "1aad70d5",
   "metadata": {},
   "outputs": [
    {
     "data": {
      "text/plain": [
       "dict_keys(['cancer', 'normal'])"
      ]
     },
     "execution_count": 55,
     "metadata": {},
     "output_type": "execute_result"
    }
   ],
   "source": [
    "test_generator.class_indices.keys()"
   ]
  },
  {
   "cell_type": "code",
   "execution_count": 56,
   "id": "7b615bef",
   "metadata": {},
   "outputs": [],
   "source": [
    "from mlxtend.plotting import plot_confusion_matrix\n",
    "\n"
   ]
  },
  {
   "cell_type": "code",
   "execution_count": 57,
   "id": "b313b0ec",
   "metadata": {},
   "outputs": [],
   "source": [
    "#Confution Matrix and Classification Report\n",
    "Y_pred = model.predict(test_generator)\n",
    "y_pred = np.argmax(Y_pred, axis=1)"
   ]
  },
  {
   "cell_type": "code",
   "execution_count": 58,
   "id": "483169ea",
   "metadata": {},
   "outputs": [
    {
     "name": "stdout",
     "output_type": "stream",
     "text": [
      "Confusion Matrix\n"
     ]
    },
    {
     "data": {
      "text/plain": [
       "(<Figure size 432x288 with 1 Axes>,\n",
       " <AxesSubplot:xlabel='predicted label', ylabel='true label'>)"
      ]
     },
     "execution_count": 58,
     "metadata": {},
     "output_type": "execute_result"
    },
    {
     "data": {
      "image/png": "[encoded data removed]",
      "text/plain": [
       "<Figure size 432x288 with 1 Axes>"
      ]
     },
     "metadata": {
      "needs_background": "light"
     },
     "output_type": "display_data"
    }
   ],
   "source": [
    "print('Confusion Matrix')\n",
    "target_names = test_generator.class_indices.keys()\n",
    "plot_confusion_matrix(confusion_matrix(test_generator.classes, y_pred), target_names)"
   ]
  },
  {
   "cell_type": "code",
   "execution_count": 59,
   "id": "17d1b7ad",
   "metadata": {},
   "outputs": [
    {
     "name": "stdout",
     "output_type": "stream",
     "text": [
      "Classification Report\n",
      "              precision    recall  f1-score   support\n",
      "\n",
      "      cancer       1.00      0.98      0.99        82\n",
      "      normal       0.90      1.00      0.95        19\n",
      "\n",
      "    accuracy                           0.98       101\n",
      "   macro avg       0.95      0.99      0.97       101\n",
      "weighted avg       0.98      0.98      0.98       101\n",
      "\n"
     ]
    }
   ],
   "source": [
    "print('Classification Report')\n",
    "print(classification_report(test_generator.classes, y_pred, target_names=target_names))"
   ]
  },
  {
   "cell_type": "code",
   "execution_count": 60,
   "id": "36097563",
   "metadata": {},
   "outputs": [],
   "source": [
    "np.set_printoptions(suppress=True)"
   ]
  },
  {
   "cell_type": "code",
   "execution_count": 61,
   "id": "b66a1608",
   "metadata": {},
   "outputs": [
    {
     "name": "stdout",
     "output_type": "stream",
     "text": [
      "WARNING:tensorflow:5 out of the last 18 calls to <function Model.make_predict_function.<locals>.predict_function at 0x00000244A8CE7430> triggered tf.function retracing. Tracing is expensive and the excessive number of tracings could be due to (1) creating @tf.function repeatedly in a loop, (2) passing tensors with different shapes, (3) passing Python objects instead of tensors. For (1), please define your @tf.function outside of the loop. For (2), @tf.function has experimental_relax_shapes=True option that relaxes argument shapes that can avoid unnecessary retracing. For (3), please refer to https://www.tensorflow.org/guide/function#controlling_retracing and https://www.tensorflow.org/api_docs/python/tf/function for  more details.\n"
     ]
    },
    {
     "data": {
      "text/html": [
       "<div>\n",
       "<style scoped>\n",
       "    .dataframe tbody tr th:only-of-type {\n",
       "        vertical-align: middle;\n",
       "    }\n",
       "\n",
       "    .dataframe tbody tr th {\n",
       "        vertical-align: top;\n",
       "    }\n",
       "\n",
       "    .dataframe thead th {\n",
       "        text-align: right;\n",
       "    }\n",
       "</style>\n",
       "<table border=\"1\" class=\"dataframe\">\n",
       "  <thead>\n",
       "    <tr style=\"text-align: right;\">\n",
       "      <th></th>\n",
       "      <th>cancer</th>\n",
       "      <th>normal</th>\n",
       "    </tr>\n",
       "  </thead>\n",
       "  <tbody>\n",
       "    <tr>\n",
       "      <th>0</th>\n",
       "      <td>0.999998</td>\n",
       "      <td>0.000002</td>\n",
       "    </tr>\n",
       "  </tbody>\n",
       "</table>\n",
       "</div>"
      ],
      "text/plain": [
       "     cancer    normal\n",
       "0  0.999998  0.000002"
      ]
     },
     "execution_count": 61,
     "metadata": {},
     "output_type": "execute_result"
    }
   ],
   "source": [
    "import pandas as pd\n",
    "\n",
    "target_names = test_generator.class_indices.keys()\n",
    "\n",
    "image_path=\"C:\\\\Users\\\\admin\\\\Desktop\\\\anotherdata\\\\test\\\\cancer\\\\000108.png\"\n",
    "img = image.load_img(image_path, target_size=(HEIGHT, WIDTH))\n",
    "\n",
    "img = np.expand_dims(img, axis=0)\n",
    "img = img/255\n",
    "\n",
    "preds = model.predict(img).flatten()\n",
    "\n",
    "pd.DataFrame(preds.reshape(1, 2), columns=target_names)"
   ]
  },
  {
   "cell_type": "code",
   "execution_count": null,
   "id": "76e123de",
   "metadata": {},
   "outputs": [],
   "source": []
  },
  {
   "cell_type": "code",
   "execution_count": null,
   "id": "fb3f07e8",
   "metadata": {},
   "outputs": [],
   "source": []
  }
 ],
 "metadata": {
  "kernelspec": {
   "display_name": "Python 3",
   "language": "python",
   "name": "python3"
  },
  "language_info": {
   "codemirror_mode": {
    "name": "ipython",
    "version": 3
   },
   "file_extension": ".py",
   "mimetype": "text/x-python",
   "name": "python",
   "nbconvert_exporter": "python",
   "pygments_lexer": "ipython3",
   "version": "3.8.8"
  }
 },
 "nbformat": 4,
 "nbformat_minor": 5
}
